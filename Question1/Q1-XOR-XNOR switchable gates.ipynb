{
 "cells": [
  {
   "cell_type": "code",
   "execution_count": 1,
   "metadata": {},
   "outputs": [],
   "source": [
    "import numpy as np\n",
    "import matplotlib.pyplot as plt\n",
    "%matplotlib inline"
   ]
  },
  {
   "cell_type": "code",
   "execution_count": 39,
   "metadata": {},
   "outputs": [],
   "source": [
    "def bin2dec(binary):\n",
    "    if binary==\"00\":\n",
    "        dec=0\n",
    "    elif binary==\"01\":\n",
    "        dec=1\n",
    "    elif binary==\"10\":\n",
    "        dec=2\n",
    "    else:\n",
    "        dec=3\n",
    "    \n",
    "    return dec"
   ]
  },
  {
   "cell_type": "code",
   "execution_count": 40,
   "metadata": {},
   "outputs": [
    {
     "data": {
      "text/plain": [
       "2"
      ]
     },
     "execution_count": 40,
     "metadata": {},
     "output_type": "execute_result"
    }
   ],
   "source": [
    "bin2dec(\"10\")"
   ]
  },
  {
   "cell_type": "code",
   "execution_count": 3,
   "metadata": {},
   "outputs": [],
   "source": [
    "def dec2bin(decimal):\n",
    "  if decimal==0:\n",
    "    binary='00'\n",
    "  elif decimal==1:\n",
    "    binary='01'\n",
    "  elif decimal==2:\n",
    "    binary='10'\n",
    "  else:\n",
    "    binary='11'\n",
    "  return binary\n"
   ]
  },
  {
   "cell_type": "code",
   "execution_count": 4,
   "metadata": {},
   "outputs": [
    {
     "data": {
      "text/plain": [
       "'11'"
      ]
     },
     "execution_count": 4,
     "metadata": {},
     "output_type": "execute_result"
    }
   ],
   "source": [
    "dec2bin(3)"
   ]
  },
  {
   "cell_type": "code",
   "execution_count": 5,
   "metadata": {},
   "outputs": [],
   "source": [
    "def sigmoid(x):\n",
    "    return 1/(1+np.exp(-x))"
   ]
  },
  {
   "cell_type": "code",
   "execution_count": 6,
   "metadata": {},
   "outputs": [],
   "source": [
    "#sigmoid(3)"
   ]
  },
  {
   "cell_type": "code",
   "execution_count": 7,
   "metadata": {},
   "outputs": [],
   "source": [
    "#Now, The derivative function of sigmoid is \n",
    "#sigmoid(x)*(1-sigmoid(x))\n",
    "#So,we define a function called sigmoid_derivative as it will be used\n",
    "#in backprop"
   ]
  },
  {
   "cell_type": "code",
   "execution_count": 8,
   "metadata": {},
   "outputs": [],
   "source": [
    "def sigmoid_derivative(x):\n",
    "    return sigmoid(x)*(1-sigmoid(x))"
   ]
  },
  {
   "cell_type": "code",
   "execution_count": 9,
   "metadata": {},
   "outputs": [],
   "source": [
    "def softmax(X):\n",
    "    expX=np.exp(X)\n",
    "    return expX/(expX.sum(axis=1,keepdims=True))"
   ]
  },
  {
   "cell_type": "code",
   "execution_count": 10,
   "metadata": {},
   "outputs": [],
   "source": [
    "#softmax([[3,3],[1,0]])"
   ]
  },
  {
   "cell_type": "code",
   "execution_count": 11,
   "metadata": {},
   "outputs": [],
   "source": [
    "#So, we need to define our feature set for calculating\n",
    "#the output.\n",
    "#Now there should be 3 inputs for each calculation\n",
    "#There are 4 possibilities(0,1,2,3) for 1st and 2nd input\n",
    "#and 2 possibilities for the 3rd(0,1)\n",
    "#So,there are 4*4*2=32 types of features/combinations"
   ]
  },
  {
   "cell_type": "code",
   "execution_count": 12,
   "metadata": {},
   "outputs": [],
   "source": [
    "#We need to give labels as we are building a supervised machine\n",
    "#learning model"
   ]
  },
  {
   "cell_type": "code",
   "execution_count": 13,
   "metadata": {},
   "outputs": [],
   "source": [
    "features=[(0,0,0), (0,1,0), (0,2,0), (0,3,0),\n",
    "              (1,0,0), (1,1,0), (1,2,0), (1,3,0),\n",
    "               (2,0,0), (2,1,0), (2,2,0), (2,3,0),\n",
    "               (3,0,0), (3,1,0), (3,2,0), (3,3,0),\n",
    "               \n",
    "               (0,0,1), (0,1,1), (0,2,1), (0,3,1),\n",
    "              (1,0,1), (1,1,1), (1,2,1), (1,3,1),\n",
    "               (2,0,1), (2,1,1), (2,2,1), (2,3,1),\n",
    "               (3,0,1), (3,1,1), (3,2,1), (3,3,1)\n",
    "              ] \n",
    "\n",
    "labels=[0, 1, 2, 3,\n",
    "            1, 0, 3, 2,\n",
    "             2, 3, 0, 1,\n",
    "             3, 2, 1, 0,\n",
    "             \n",
    "             3, 2, 1, 0,\n",
    "             2, 3, 0, 1,\n",
    "             1, 0, 3, 2,\n",
    "             0, 1, 2, 3\n",
    "            ]"
   ]
  },
  {
   "cell_type": "code",
   "execution_count": 14,
   "metadata": {},
   "outputs": [],
   "source": [
    "features=np.array(features)\n",
    "\n",
    "cont_labels=np.zeros((32,4))"
   ]
  },
  {
   "cell_type": "code",
   "execution_count": 15,
   "metadata": {},
   "outputs": [
    {
     "data": {
      "text/plain": [
       "32"
      ]
     },
     "execution_count": 15,
     "metadata": {},
     "output_type": "execute_result"
    }
   ],
   "source": [
    "len(labels)"
   ]
  },
  {
   "cell_type": "code",
   "execution_count": 16,
   "metadata": {},
   "outputs": [
    {
     "data": {
      "text/plain": [
       "(32, 3)"
      ]
     },
     "execution_count": 16,
     "metadata": {},
     "output_type": "execute_result"
    }
   ],
   "source": [
    "features.shape"
   ]
  },
  {
   "cell_type": "code",
   "execution_count": 17,
   "metadata": {},
   "outputs": [],
   "source": [
    "for i in range(len(labels)):\n",
    "    cont_labels[i,labels[i]]=1"
   ]
  },
  {
   "cell_type": "code",
   "execution_count": 18,
   "metadata": {},
   "outputs": [
    {
     "data": {
      "text/plain": [
       "array([[1., 0., 0., 0.],\n",
       "       [0., 1., 0., 0.],\n",
       "       [0., 0., 1., 0.],\n",
       "       [0., 0., 0., 1.],\n",
       "       [0., 1., 0., 0.],\n",
       "       [1., 0., 0., 0.],\n",
       "       [0., 0., 0., 1.],\n",
       "       [0., 0., 1., 0.],\n",
       "       [0., 0., 1., 0.],\n",
       "       [0., 0., 0., 1.],\n",
       "       [1., 0., 0., 0.],\n",
       "       [0., 1., 0., 0.],\n",
       "       [0., 0., 0., 1.],\n",
       "       [0., 0., 1., 0.],\n",
       "       [0., 1., 0., 0.],\n",
       "       [1., 0., 0., 0.],\n",
       "       [0., 0., 0., 1.],\n",
       "       [0., 0., 1., 0.],\n",
       "       [0., 1., 0., 0.],\n",
       "       [1., 0., 0., 0.],\n",
       "       [0., 0., 1., 0.],\n",
       "       [0., 0., 0., 1.],\n",
       "       [1., 0., 0., 0.],\n",
       "       [0., 1., 0., 0.],\n",
       "       [0., 1., 0., 0.],\n",
       "       [1., 0., 0., 0.],\n",
       "       [0., 0., 0., 1.],\n",
       "       [0., 0., 1., 0.],\n",
       "       [1., 0., 0., 0.],\n",
       "       [0., 1., 0., 0.],\n",
       "       [0., 0., 1., 0.],\n",
       "       [0., 0., 0., 1.]])"
      ]
     },
     "execution_count": 18,
     "metadata": {},
     "output_type": "execute_result"
    }
   ],
   "source": [
    "cont_labels"
   ]
  },
  {
   "cell_type": "code",
   "execution_count": 19,
   "metadata": {},
   "outputs": [
    {
     "data": {
      "text/plain": [
       "32"
      ]
     },
     "execution_count": 19,
     "metadata": {},
     "output_type": "execute_result"
    }
   ],
   "source": [
    "features.shape[0]"
   ]
  },
  {
   "cell_type": "code",
   "execution_count": 20,
   "metadata": {},
   "outputs": [
    {
     "data": {
      "text/plain": [
       "3"
      ]
     },
     "execution_count": 20,
     "metadata": {},
     "output_type": "execute_result"
    }
   ],
   "source": [
    "features.shape[1]"
   ]
  },
  {
   "cell_type": "code",
   "execution_count": 21,
   "metadata": {},
   "outputs": [],
   "source": [
    "n=features.shape[0]\n",
    "inputs=features.shape[1]\n",
    "\n",
    "hidden_neurons=25\n",
    "output_neurons=4\n",
    "\n",
    "wgh=np.random.rand(inputs,hidden_neurons)\n",
    "bh=np.random.rand(hidden_neurons)\n",
    "#Random initialisation of weights and bias of hidden gate\n",
    "\n",
    "wgo=np.random.rand(hidden_neurons,output_neurons)\n",
    "bo=np.random.rand(output_neurons)\n",
    "#Random initialisation of weights and bias of output gate\n",
    "\n",
    "alpha=10e-4\n",
    "#alpha is the learning rate"
   ]
  },
  {
   "cell_type": "code",
   "execution_count": 22,
   "metadata": {},
   "outputs": [
    {
     "data": {
      "text/plain": [
       "32"
      ]
     },
     "execution_count": 22,
     "metadata": {},
     "output_type": "execute_result"
    }
   ],
   "source": [
    "n"
   ]
  },
  {
   "cell_type": "code",
   "execution_count": 23,
   "metadata": {},
   "outputs": [
    {
     "data": {
      "text/plain": [
       "3"
      ]
     },
     "execution_count": 23,
     "metadata": {},
     "output_type": "execute_result"
    }
   ],
   "source": [
    "inputs"
   ]
  },
  {
   "cell_type": "code",
   "execution_count": 24,
   "metadata": {},
   "outputs": [
    {
     "data": {
      "text/plain": [
       "array([[0.99208804, 0.85231212, 0.17265768, 0.00419737, 0.2873631 ,\n",
       "        0.20435494, 0.17858703, 0.80728499, 0.77966201, 0.53940527,\n",
       "        0.52474531, 0.46619789, 0.30219244, 0.40547077, 0.90657939,\n",
       "        0.00149714, 0.94093659, 0.00330588, 0.53832071, 0.17340997,\n",
       "        0.03016696, 0.10320311, 0.36980704, 0.28213651, 0.95289805],\n",
       "       [0.5742927 , 0.57621947, 0.87022734, 0.93585444, 0.50116132,\n",
       "        0.77897504, 0.79552067, 0.55928866, 0.20899596, 0.48321877,\n",
       "        0.31076133, 0.50483218, 0.3531137 , 0.17317659, 0.37068444,\n",
       "        0.19139462, 0.64664275, 0.91212431, 0.38734696, 0.33381719,\n",
       "        0.56482188, 0.65247941, 0.09268593, 0.45065797, 0.96467991],\n",
       "       [0.65621387, 0.97785815, 0.90538372, 0.91963011, 0.62348022,\n",
       "        0.82233242, 0.4894187 , 0.94424041, 0.83023374, 0.29639635,\n",
       "        0.05122293, 0.56204161, 0.72624567, 0.35101886, 0.5733443 ,\n",
       "        0.82015926, 0.29208899, 0.31500071, 0.30654649, 0.8644139 ,\n",
       "        0.30030024, 0.38070327, 0.10394635, 0.81001983, 0.152305  ]])"
      ]
     },
     "execution_count": 24,
     "metadata": {},
     "output_type": "execute_result"
    }
   ],
   "source": [
    "wgh"
   ]
  },
  {
   "cell_type": "code",
   "execution_count": 25,
   "metadata": {},
   "outputs": [
    {
     "data": {
      "text/plain": [
       "array([0.57364681, 0.49825783, 0.84461648, 0.17112072, 0.23544742,\n",
       "       0.16904154, 0.79904293, 0.81789994, 0.60878832, 0.65088801,\n",
       "       0.16158691, 0.54796056, 0.59367186, 0.84146387, 0.26399374,\n",
       "       0.48867497, 0.3985106 , 0.91770037, 0.72452809, 0.54450468,\n",
       "       0.46451576, 0.95457031, 0.54614819, 0.88685306, 0.84905152])"
      ]
     },
     "execution_count": 25,
     "metadata": {},
     "output_type": "execute_result"
    }
   ],
   "source": [
    "bh"
   ]
  },
  {
   "cell_type": "code",
   "execution_count": 26,
   "metadata": {},
   "outputs": [
    {
     "data": {
      "text/plain": [
       "array([[0.784717  , 0.6736477 , 0.71002377, 0.4353708 ],\n",
       "       [0.78595262, 0.67129969, 0.21427314, 0.95495082],\n",
       "       [0.10258804, 0.5949998 , 0.31759486, 0.59171532],\n",
       "       [0.63254126, 0.45370328, 0.15369687, 0.95188547],\n",
       "       [0.88900752, 0.18531463, 0.89293612, 0.79554553],\n",
       "       [0.83341817, 0.88561499, 0.35066831, 0.25886431],\n",
       "       [0.45455053, 0.4280099 , 0.26766644, 0.85427973],\n",
       "       [0.96475377, 0.18799556, 0.24812203, 0.63500553],\n",
       "       [0.77283348, 0.84511277, 0.56751952, 0.97212645],\n",
       "       [0.09765768, 0.23249729, 0.27422042, 0.59100742],\n",
       "       [0.82879547, 0.88484241, 0.45618835, 0.73179029],\n",
       "       [0.66266337, 0.46958084, 0.31610151, 0.2725047 ],\n",
       "       [0.96932896, 0.59396296, 0.79556849, 0.246791  ],\n",
       "       [0.56857192, 0.34569481, 0.15619611, 0.08407749],\n",
       "       [0.46263756, 0.19515572, 0.0048602 , 0.38641118],\n",
       "       [0.50834485, 0.95753061, 0.4605764 , 0.99141466],\n",
       "       [0.61077073, 0.19917859, 0.91612689, 0.90961545],\n",
       "       [0.8135778 , 0.5689999 , 0.35306612, 0.89666158],\n",
       "       [0.29837882, 0.27877846, 0.30634402, 0.46720377],\n",
       "       [0.44016541, 0.3332971 , 0.15831694, 0.00547121],\n",
       "       [0.21338479, 0.2841458 , 0.92466278, 0.02933518],\n",
       "       [0.06768937, 0.9623911 , 0.19255823, 0.79357056],\n",
       "       [0.88647942, 0.96743875, 0.7532341 , 0.69259001],\n",
       "       [0.75058606, 0.51634648, 0.82000279, 0.86780791],\n",
       "       [0.42241477, 0.48131609, 0.92675756, 0.1530948 ]])"
      ]
     },
     "execution_count": 26,
     "metadata": {},
     "output_type": "execute_result"
    }
   ],
   "source": [
    "wgo"
   ]
  },
  {
   "cell_type": "code",
   "execution_count": 27,
   "metadata": {},
   "outputs": [
    {
     "data": {
      "text/plain": [
       "array([0.90394225, 0.66935081, 0.28119723, 0.34684264])"
      ]
     },
     "execution_count": 27,
     "metadata": {},
     "output_type": "execute_result"
    }
   ],
   "source": [
    "bo"
   ]
  },
  {
   "cell_type": "code",
   "execution_count": 28,
   "metadata": {},
   "outputs": [],
   "source": [
    "cost=[]"
   ]
  },
  {
   "cell_type": "code",
   "execution_count": 29,
   "metadata": {},
   "outputs": [
    {
     "name": "stdout",
     "output_type": "stream",
     "text": [
      "Loss after 0 no of epochs: 64.43674872256742\n",
      "Loss after 50000 no of epochs: 28.151091840344847\n",
      "Loss after 100000 no of epochs: 5.207449158092061\n",
      "Loss after 150000 no of epochs: 0.9160651693854673\n",
      "Loss after 200000 no of epochs: 0.4400677831513487\n",
      "Loss after 250000 no of epochs: 0.29361837655918555\n",
      "Loss after 300000 no of epochs: 0.22023005667764928\n",
      "Loss after 350000 no of epochs: 0.17593647962827386\n",
      "Loss after 400000 no of epochs: 0.14625646034958345\n",
      "Loss after 450000 no of epochs: 0.12497518870452429\n",
      "Loss after 500000 no of epochs: 0.10897222069030474\n"
     ]
    }
   ],
   "source": [
    "for epoch in range(500001):  \n",
    "\n",
    "    zh = np.dot(features, wgh) + bh\n",
    "    ah = sigmoid(zh)\n",
    "\n",
    "    zo = np.dot(ah, wgo) + bo\n",
    "    ao = softmax(zo)\n",
    "\n",
    "\n",
    "\n",
    "    dcost_dzo = ao - cont_labels\n",
    "    dzo_dwo = ah\n",
    "\n",
    "    dcost_wo = np.dot(dzo_dwo.T, dcost_dzo)\n",
    "\n",
    "    dcost_bo = dcost_dzo\n",
    "\n",
    "\n",
    "    dzo_dah = wgo\n",
    "    dcost_dah = np.dot(dcost_dzo , dzo_dah.T)\n",
    "    dah_dzh = sigmoid_derivative(zh)\n",
    "    dzh_dwh = features\n",
    "    dcost_wh = np.dot(dzh_dwh.T, dah_dzh * dcost_dah)\n",
    "\n",
    "    dcost_bh = dcost_dah * dah_dzh\n",
    "\n",
    "\n",
    "    wgh -= alpha * dcost_wh\n",
    "    bh -= alpha * dcost_bh.sum(axis=0)\n",
    "\n",
    "    wgo -= alpha * dcost_wo\n",
    "    bo -= alpha * dcost_bo.sum(axis=0)\n",
    "\n",
    "    if epoch % 50000 == 0:\n",
    "        loss = np.sum(-cont_labels * np.log(ao))\n",
    "        print(f'Loss after {epoch} no of epochs:', loss)\n",
    "        cost.append(loss)"
   ]
  },
  {
   "cell_type": "code",
   "execution_count": 30,
   "metadata": {},
   "outputs": [],
   "source": [
    "#So,we now have the correct updated weights\n",
    "#Now,we use these weights and perform a forward \n",
    "#pass through the input we wish to"
   ]
  },
  {
   "cell_type": "code",
   "execution_count": 37,
   "metadata": {},
   "outputs": [],
   "source": [
    "def predict(x):\n",
    "    predictions = []\n",
    "    final_pred=[]\n",
    "  \n",
    "    zh = np.dot(x, wgh) + bh\n",
    "    ah = sigmoid(zh)\n",
    "\n",
    "    zo = np.dot(ah, wgo) + bo\n",
    "    ao = softmax(zo)\n",
    "    \n",
    "    for i in range(len(ao)):\n",
    "        predictions.append(np.argmax(ao[i], axis=0))\n",
    "        temp=dec2bin(np.argmax(ao[i],axis=0))\n",
    "        final_pred.append(temp)\n",
    "    return final_pred\n",
    "    #return predictions"
   ]
  },
  {
   "cell_type": "code",
   "execution_count": 38,
   "metadata": {},
   "outputs": [
    {
     "data": {
      "text/plain": [
       "['00',\n",
       " '01',\n",
       " '10',\n",
       " '11',\n",
       " '01',\n",
       " '00',\n",
       " '11',\n",
       " '10',\n",
       " '10',\n",
       " '11',\n",
       " '00',\n",
       " '01',\n",
       " '11',\n",
       " '10',\n",
       " '01',\n",
       " '00',\n",
       " '11',\n",
       " '10',\n",
       " '01',\n",
       " '00',\n",
       " '10',\n",
       " '11',\n",
       " '00',\n",
       " '01',\n",
       " '01',\n",
       " '00',\n",
       " '11',\n",
       " '10',\n",
       " '00',\n",
       " '01',\n",
       " '10',\n",
       " '11']"
      ]
     },
     "execution_count": 38,
     "metadata": {},
     "output_type": "execute_result"
    }
   ],
   "source": [
    "predict(features)"
   ]
  }
 ],
 "metadata": {
  "kernelspec": {
   "display_name": "Python 3",
   "language": "python",
   "name": "python3"
  },
  "language_info": {
   "codemirror_mode": {
    "name": "ipython",
    "version": 3
   },
   "file_extension": ".py",
   "mimetype": "text/x-python",
   "name": "python",
   "nbconvert_exporter": "python",
   "pygments_lexer": "ipython3",
   "version": "3.6.8"
  }
 },
 "nbformat": 4,
 "nbformat_minor": 2
}
